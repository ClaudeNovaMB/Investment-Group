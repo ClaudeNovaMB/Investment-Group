{
    "cells": [
        {
            "cell_type": "code",
            "execution_count": 1,
            "metadata": {},
            "outputs": [],
            "source": "import numpy as np\nimport pandas as pd\nimport matplotlib as plt\nimport datetime\nimport types\nfrom botocore.client import Config\nimport ibm_boto3"
        },
        {
            "cell_type": "code",
            "execution_count": 2,
            "metadata": {},
            "outputs": [
                {
                    "data": {
                        "text/html": "<div>\n<style scoped>\n    .dataframe tbody tr th:only-of-type {\n        vertical-align: middle;\n    }\n\n    .dataframe tbody tr th {\n        vertical-align: top;\n    }\n\n    .dataframe thead th {\n        text-align: right;\n    }\n</style>\n<table border=\"1\" class=\"dataframe\">\n  <thead>\n    <tr style=\"text-align: right;\">\n      <th></th>\n      <th>Company</th>\n      <th>Date</th>\n      <th>Closing (c)</th>\n      <th>High (c)</th>\n      <th>Low (c)</th>\n      <th>Volume</th>\n      <th># Deals</th>\n      <th>Value (R)</th>\n      <th>Move (%)</th>\n      <th>DY</th>\n      <th>EY</th>\n      <th>PE</th>\n    </tr>\n  </thead>\n  <tbody>\n    <tr>\n      <th>0</th>\n      <td>MTN</td>\n      <td>2020-02-17</td>\n      <td>8820</td>\n      <td>8879</td>\n      <td>8725</td>\n      <td>2350702</td>\n      <td>3130</td>\n      <td>207\u00a0277\u00a0923</td>\n      <td>0.0112</td>\n      <td>0.0000</td>\n      <td>0.0000</td>\n      <td>0.0000</td>\n    </tr>\n    <tr>\n      <th>1</th>\n      <td>MTN</td>\n      <td>2020-02-14</td>\n      <td>8722</td>\n      <td>8873</td>\n      <td>8696</td>\n      <td>3895872</td>\n      <td>5710</td>\n      <td>340\u00a0272\u00a0727</td>\n      <td>-0.0072</td>\n      <td>4.7695</td>\n      <td>3.6344</td>\n      <td>27.5141</td>\n    </tr>\n    <tr>\n      <th>2</th>\n      <td>MTN</td>\n      <td>2020-02-13</td>\n      <td>8785</td>\n      <td>8978</td>\n      <td>8712</td>\n      <td>4837848</td>\n      <td>8169</td>\n      <td>425\u00a0234\u00a0479</td>\n      <td>-0.0028</td>\n      <td>4.7353</td>\n      <td>3.6084</td>\n      <td>27.7129</td>\n    </tr>\n    <tr>\n      <th>3</th>\n      <td>MTN</td>\n      <td>2020-02-12</td>\n      <td>8810</td>\n      <td>8961</td>\n      <td>8330</td>\n      <td>7969935</td>\n      <td>14546</td>\n      <td>701\u00a0183\u00a0321</td>\n      <td>0.06</td>\n      <td>4.7219</td>\n      <td>3.5981</td>\n      <td>27.7917</td>\n    </tr>\n    <tr>\n      <th>4</th>\n      <td>MTN</td>\n      <td>2020-02-11</td>\n      <td>8311</td>\n      <td>8385</td>\n      <td>8225</td>\n      <td>3576616</td>\n      <td>5561</td>\n      <td>297\u00a0254\u00a0218</td>\n      <td>0.0034</td>\n      <td>5.0054</td>\n      <td>3.8142</td>\n      <td>26.2176</td>\n    </tr>\n  </tbody>\n</table>\n</div>",
                        "text/plain": "  Company       Date  Closing (c)  High (c)  Low (c)   Volume  # Deals  \\\n0     MTN 2020-02-17         8820      8879     8725  2350702     3130   \n1     MTN 2020-02-14         8722      8873     8696  3895872     5710   \n2     MTN 2020-02-13         8785      8978     8712  4837848     8169   \n3     MTN 2020-02-12         8810      8961     8330  7969935    14546   \n4     MTN 2020-02-11         8311      8385     8225  3576616     5561   \n\n     Value (R) Move (%)      DY      EY       PE  \n0  207\u00a0277\u00a0923   0.0112  0.0000  0.0000   0.0000  \n1  340\u00a0272\u00a0727  -0.0072  4.7695  3.6344  27.5141  \n2  425\u00a0234\u00a0479  -0.0028  4.7353  3.6084  27.7129  \n3  701\u00a0183\u00a0321     0.06  4.7219  3.5981  27.7917  \n4  297\u00a0254\u00a0218   0.0034  5.0054  3.8142  26.2176  "
                    },
                    "execution_count": 2,
                    "metadata": {},
                    "output_type": "execute_result"
                }
            ],
            "source": "# The code was removed by Watson Studio for sharing."
        },
        {
            "cell_type": "code",
            "execution_count": 3,
            "metadata": {},
            "outputs": [
                {
                    "data": {
                        "text/plain": "Company                object\nDate           datetime64[ns]\nClosing (c)             int64\nHigh (c)                int64\nLow (c)                 int64\nVolume                  int64\n# Deals                 int64\nMove (%)               object\nDY                    float64\nEY                    float64\nPE                    float64\nValue                 float64\ndtype: object"
                    },
                    "execution_count": 3,
                    "metadata": {},
                    "output_type": "execute_result"
                }
            ],
            "source": "s = []\nfor n in df['Value (R)'][:]:\n    s.append(str(n))\na = []\nfor n in s:\n    a.append(float(''.join(n.split())))\ndf['Value'] = a\ndf.drop([\"Value (R)\"], axis=1, inplace=True)\ndf.dtypes"
        },
        {
            "cell_type": "code",
            "execution_count": null,
            "metadata": {},
            "outputs": [],
            "source": ""
        },
        {
            "cell_type": "code",
            "execution_count": null,
            "metadata": {},
            "outputs": [],
            "source": ""
        },
        {
            "cell_type": "code",
            "execution_count": null,
            "metadata": {},
            "outputs": [],
            "source": ""
        }
    ],
    "metadata": {
        "kernelspec": {
            "display_name": "Python 3.6",
            "language": "python",
            "name": "python3"
        },
        "language_info": {
            "codemirror_mode": {
                "name": "ipython",
                "version": 3
            },
            "file_extension": ".py",
            "mimetype": "text/x-python",
            "name": "python",
            "nbconvert_exporter": "python",
            "pygments_lexer": "ipython3",
            "version": "3.6.9"
        }
    },
    "nbformat": 4,
    "nbformat_minor": 1
}